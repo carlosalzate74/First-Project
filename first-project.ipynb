{
 "cells": [
  {
   "cell_type": "markdown",
   "metadata": {},
   "source": [
    "# First Project: Impact of Weather on Crime in Austin"
   ]
  },
  {
   "cell_type": "code",
   "execution_count": 1,
   "metadata": {},
   "outputs": [
    {
     "ename": "ModuleNotFoundError",
     "evalue": "No module named 'data2'",
     "output_type": "error",
     "traceback": [
      "\u001b[1;31m---------------------------------------------------------------------------\u001b[0m",
      "\u001b[1;31mModuleNotFoundError\u001b[0m                       Traceback (most recent call last)",
      "\u001b[1;32m<ipython-input-1-09c9d278a027>\u001b[0m in \u001b[0;36m<module>\u001b[1;34m()\u001b[0m\n\u001b[0;32m      6\u001b[0m \u001b[1;32mfrom\u001b[0m \u001b[0mclasses\u001b[0m\u001b[1;33m.\u001b[0m\u001b[0mcrime\u001b[0m \u001b[1;32mimport\u001b[0m \u001b[0mCrime\u001b[0m\u001b[1;33m\u001b[0m\u001b[0m\n\u001b[0;32m      7\u001b[0m \u001b[1;32mfrom\u001b[0m \u001b[0mclasses\u001b[0m\u001b[1;33m.\u001b[0m\u001b[0mdatabase\u001b[0m \u001b[1;32mimport\u001b[0m \u001b[0mDatabase\u001b[0m\u001b[1;33m\u001b[0m\u001b[0m\n\u001b[1;32m----> 8\u001b[1;33m \u001b[1;32mimport\u001b[0m \u001b[0mdata2\u001b[0m \u001b[1;32mas\u001b[0m \u001b[0mdata\u001b[0m\u001b[1;33m\u001b[0m\u001b[0m\n\u001b[0m\u001b[0;32m      9\u001b[0m \u001b[1;33m\u001b[0m\u001b[0m\n\u001b[0;32m     10\u001b[0m \u001b[1;31m# Choose date range to retrieve data\u001b[0m\u001b[1;33m\u001b[0m\u001b[1;33m\u001b[0m\u001b[0m\n",
      "\u001b[1;31mModuleNotFoundError\u001b[0m: No module named 'data2'"
     ]
    }
   ],
   "source": [
    "# Dependencies \n",
    "import matplotlib.pyplot as plt\n",
    "import pandas as pd\n",
    "import datetime as dt\n",
    "from classes.weather import Weather\n",
    "from classes.crime import Crime\n",
    "from classes.database import Database\n",
    "import data\n",
    "\n",
    "# Choose date range to retrieve data\n",
    "start_str = \"2018-01-01\"\n",
    "end_str = \"2019-12-31\"\n",
    "\n",
    "# Choose methods of getting/saving data\n",
    "crime_previously_saved = True\n",
    "weather_previously_saved = True\n",
    "in_db = True\n",
    "\n",
    "# Choose file paths for saving/loading\n",
    "crime_path = \"data/crime.csv\"\n",
    "weather_path = \"data/weather.csv\""
   ]
  },
  {
   "cell_type": "markdown",
   "metadata": {},
   "source": [
    "## Retrieve Austin Crime Data (data.austintexas.gov)"
   ]
  },
  {
   "cell_type": "code",
   "execution_count": null,
   "metadata": {
    "scrolled": true
   },
   "outputs": [],
   "source": [
    "if crime_previously_saved:\n",
    "    # load from saved file\n",
    "    df_crime = pd.read_csv(crime_path)\n",
    "else:\n",
    "    # call from API\n",
    "    df_crime = data.get_crime_data(start_str, end_str)\n",
    "    df_crime.to_csv(crime_path, index=False)\n",
    "\n",
    "df_crime"
   ]
  },
  {
   "cell_type": "markdown",
   "metadata": {},
   "source": [
    "## Perform API Call - Weather Data (Dark Sky)"
   ]
  },
  {
   "cell_type": "code",
   "execution_count": null,
   "metadata": {},
   "outputs": [],
   "source": [
    "if weather_previously_saved:\n",
    "    # load from saved file\n",
    "    df_weather = pd.read_csv(weather_path)\n",
    "else:\n",
    "    # call from API\n",
    "    df_weather = data.get_weather_data(start_str, end_str)\n",
    "    df_weather.to_csv(weather_path, index=False)\n",
    "\n",
    "df_weather"
   ]
  },
  {
   "cell_type": "markdown",
   "metadata": {},
   "source": [
    "## Merge Data Sources"
   ]
  },
  {
   "cell_type": "code",
   "execution_count": null,
   "metadata": {},
   "outputs": [],
   "source": [
    "df_result = pd.merge(\n",
    "    df_weather,\n",
    "    df_crime,\n",
    "    left_on=\"Date\",\n",
    "    right_on=\"Epoch\",\n",
    "    how=\"outer\"\n",
    ")\n",
    "df_result"
   ]
  },
  {
   "cell_type": "markdown",
   "metadata": {},
   "source": [
    "# Store in a database"
   ]
  },
  {
   "cell_type": "code",
   "execution_count": null,
   "metadata": {},
   "outputs": [],
   "source": [
    "if not in_db:\n",
    "    obj_database = Database()\n",
    "    obj_database.df_save(df_result)"
   ]
  },
  {
   "cell_type": "markdown",
   "metadata": {},
   "source": [
    "## Data Visualizations"
   ]
  },
  {
   "cell_type": "markdown",
   "metadata": {},
   "source": [
    "#### Crime Rate vs. Temperature by Crime Type"
   ]
  },
  {
   "cell_type": "code",
   "execution_count": null,
   "metadata": {},
   "outputs": [],
   "source": [
    "temp_df = df_result[[\"Temperature\", \"Crime Type\", \"Date\"]]\n",
    "temp_df"
   ]
  },
  {
   "cell_type": "code",
   "execution_count": null,
   "metadata": {},
   "outputs": [],
   "source": [
    "# Top 5 Crime Types\n",
    "top5_crime_types = temp_df[\"Crime Type\"].value_counts().sort_values(ascending=False).head()\n",
    "top5_crime_types"
   ]
  },
  {
   "cell_type": "code",
   "execution_count": null,
   "metadata": {},
   "outputs": [],
   "source": [
    "# Create temperature bins\n",
    "bins = [0, 9.99, 19.99, 29.99, 39.99, 49.99, 59.99, 69.99, 79.99, 89.99, 99.99, 109.99, 119.99, 9999]\n",
    "temp_ranges = [\"<0\", \"10-19\", \"20-29\", \"30-39\", \"40-49\", \"50-59\", \"60-69\", \"70-79\", \"80-89\", \"90-99\", \"100-109\", \"110-119\", \">120\"]\n",
    "temp_df[\"Temperature Group\"] = pd.cut(temp_df[\"Temperature\"], bins, labels = temp_ranges)\n",
    "# df_1"
   ]
  },
  {
   "cell_type": "code",
   "execution_count": null,
   "metadata": {},
   "outputs": [],
   "source": [
    "# Filter for top 5 crime types\n",
    "df_top5_crime_types = temp_df[temp_df[\"Crime Type\"].apply(lambda x: x in top5_crime_types.index)]\n",
    "# df_top5_crime_types\n",
    "\n",
    "# Group by temperature bin to get hour counts\n",
    "by_temp = df_top5_crime_types.groupby(\"Temperature Group\")\n",
    "hour_counts = by_temp[\"Date\"].nunique()\n",
    "\n",
    "# Group by temperature and crime type to get crime counts\n",
    "df_group1 = df_top5_crime_types.groupby([\"Crime Type\", \"Temperature Group\"])[\"Date\"]\n",
    "crime_counts = df_group1.count()\n",
    "\n",
    "# Calculate crime rates as crimes / hours within each temp bin\n",
    "crime_rates = crime_counts / hour_counts\n",
    "\n",
    "# Format DF\n",
    "crime_rates_df = crime_rates.to_frame().reset_index().rename(columns={\"Date\": \"Crime Rate\"})\n",
    "crime_rates_df"
   ]
  },
  {
   "cell_type": "code",
   "execution_count": null,
   "metadata": {},
   "outputs": [],
   "source": [
    "legend_values = crime_rates_df[\"Crime Type\"].drop_duplicates()\n",
    "legend_values"
   ]
  },
  {
   "cell_type": "code",
   "execution_count": null,
   "metadata": {},
   "outputs": [],
   "source": [
    "# Pivoting results dataframe\n",
    "df_pivot1 = pd.pivot_table(crime_rates_df, values=[\"Crime Rate\"], index=[\"Temperature Group\"],\n",
    "                   columns=[\"Crime Type\"]).fillna(0)\n",
    "\n",
    "df_pivot1"
   ]
  },
  {
   "cell_type": "code",
   "execution_count": null,
   "metadata": {},
   "outputs": [],
   "source": [
    "ax = df_pivot1.plot(figsize=(12,10), legend=False)\n",
    "ax.set_prop_cycle(None)\n",
    "\n",
    "df_pivot1.plot(figsize=(12,8), ax = ax, grid=True)\n",
    "plt.title(\"Temperature Impact On Crime Rate By Crime Type\", fontsize=20)\n",
    "plt.legend(legend1, fontsize=12)\n",
    "plt.xlabel(\"Temperature (F)\", fontsize=20)\n",
    "plt.ylabel(\"Crimes Per Hour\", fontsize=20)\n",
    "plt.tick_params(labelsize=18)"
   ]
  },
  {
   "cell_type": "markdown",
   "metadata": {},
   "source": [
    "#### Crime Type vs. Moon Phase"
   ]
  },
  {
   "cell_type": "code",
   "execution_count": null,
   "metadata": {},
   "outputs": [],
   "source": [
    "df_2 = df_result[[\"Moon Phase\", \"Crime Type\", \"Date\"]]\n",
    "df_2"
   ]
  },
  {
   "cell_type": "code",
   "execution_count": null,
   "metadata": {},
   "outputs": [],
   "source": [
    "# Change moon phases to categories\n",
    "obj_weather = Weather()\n",
    "df_2.loc[:, \"Moon Phase\"] = df_2.loc[:, \"Moon Phase\"].apply(obj_weather.get_moon_description)\n",
    "df_2"
   ]
  },
  {
   "cell_type": "code",
   "execution_count": null,
   "metadata": {},
   "outputs": [],
   "source": [
    "df_2[\"Moon Phase\"].value_counts()"
   ]
  },
  {
   "cell_type": "code",
   "execution_count": null,
   "metadata": {},
   "outputs": [],
   "source": [
    "# Filter for top 5 crime location types\n",
    "df_top5_crime_types = df_2[df_2[\"Crime Type\"].apply(lambda x: x in top5_crime_types.index)]\n",
    "# df_top5_crime_loc_types\n",
    "\n",
    "# Group by temperature bin to get hour counts\n",
    "by_phase = df_top5_crime_types.groupby(\"Moon Phase\")\n",
    "hour_counts = by_phase[\"Date\"].nunique()\n",
    "\n",
    "# Group by moon phase and crime type to get crime counts\n",
    "df_group2 = df_top5_crime_types.groupby([\"Crime Type\", \"Moon Phase\"])[\"Date\"]\n",
    "crime_counts = df_group2.count()\n",
    "\n",
    "# Calculate crime rates as crimes / hours within each moon phase\n",
    "crime_rates2 = crime_counts / hour_counts\n",
    "\n",
    "# DF\n",
    "df_crime_rates2 = crime_rates2.to_frame().reset_index().rename(columns={\"Date\": \"Crime Rate\"})\n",
    "df_crime_rates2"
   ]
  },
  {
   "cell_type": "code",
   "execution_count": null,
   "metadata": {},
   "outputs": [],
   "source": [
    "legend2 = df_crime_rates2[\"Crime Type\"].drop_duplicates()\n",
    "legend2"
   ]
  },
  {
   "cell_type": "code",
   "execution_count": null,
   "metadata": {},
   "outputs": [],
   "source": [
    "df_pivot2 = pd.pivot_table(df_crime_rates2, values=[\"Crime Rate\"], index =[\"Moon Phase\"],\n",
    "                   columns=[\"Crime Type\"]).fillna(0)\n",
    "\n",
    "df_pivot2"
   ]
  },
  {
   "cell_type": "code",
   "execution_count": null,
   "metadata": {},
   "outputs": [],
   "source": [
    "ax = df_pivot2.plot(figsize=(12,10), legend=False)\n",
    "ax.set_prop_cycle(None)\n",
    "\n",
    "df_pivot2.plot(figsize=(12,8), ax = ax, grid=True)\n",
    "plt.title(\"Moon Phase Impact on Crime Rate by Crime Type\", fontsize=20)\n",
    "plt.legend(legend2, fontsize=12)\n",
    "plt.xlabel(\"\")\n",
    "plt.ylabel(\"Crimes Per Hour\", fontsize=20)\n",
    "plt.tick_params(labelsize=18)"
   ]
  },
  {
   "cell_type": "markdown",
   "metadata": {},
   "source": [
    "#### Crime Rate vs. Precipitation Intensity by Crime Location"
   ]
  },
  {
   "cell_type": "code",
   "execution_count": null,
   "metadata": {},
   "outputs": [],
   "source": [
    "df_3 = df_result[[\"Precipitation Intensity\", \"Location Type\", \"Date\"]]\n",
    "df_3"
   ]
  },
  {
   "cell_type": "code",
   "execution_count": null,
   "metadata": {},
   "outputs": [],
   "source": [
    "# Top 5 Crime Types\n",
    "top5_crime_locations = df_3[\"Location Type\"].value_counts().sort_values(ascending=False).head()\n",
    "top5_crime_locations"
   ]
  },
  {
   "cell_type": "code",
   "execution_count": null,
   "metadata": {},
   "outputs": [],
   "source": [
    "# View precipitation intensity range\n",
    "min(df_3[\"Precipitation Intensity\"]), max(df_3[\"Precipitation Intensity\"])"
   ]
  },
  {
   "cell_type": "code",
   "execution_count": null,
   "metadata": {},
   "outputs": [],
   "source": [
    "# Create bins\n",
    "labels = ['0-.0689', '.0689-.138', '.138-.207', '.207-.276', '.276-.345', '.345-.413', '.413-.482', '.482-.551', '.551-.620', '.620-.689']\n",
    "df_3[\"Precipitation Intensity\"] = pd.cut(df_3[\"Precipitation Intensity\"], 10, labels=labels)\n",
    "df_3[\"Precipitation Intensity\"].drop_duplicates()"
   ]
  },
  {
   "cell_type": "code",
   "execution_count": null,
   "metadata": {},
   "outputs": [],
   "source": [
    "# Filter for top 5 location types\n",
    "df_top5_location_types = df_3[df_3[\"Location Type\"].apply(lambda x: x in top5_crime_locations.index)]\n",
    "# df_top5_location_types\n",
    "\n",
    "# Group by precipitation intensity to get hour counts\n",
    "by_precip = df_top5_location_types.groupby(\"Precipitation Intensity\")\n",
    "hour_counts = by_precip[\"Date\"].nunique()\n",
    "\n",
    "# Group by precipitation intensity and crime type to get crime counts\n",
    "df_group3 = df_top5_location_types.groupby([\"Location Type\", \"Precipitation Intensity\"])[\"Date\"]\n",
    "crime_counts = df_group3.count()\n",
    "\n",
    "# Calculate crime rates as crimes / hours within each precip. intensity bin\n",
    "crime_rates3 = crime_counts / hour_counts\n",
    "\n",
    "# DF\n",
    "df_crime_rates3 = crime_rates3.to_frame().reset_index().rename(columns={\"Date\": \"Crime Rate\"})\n",
    "df_crime_rates3"
   ]
  },
  {
   "cell_type": "code",
   "execution_count": null,
   "metadata": {},
   "outputs": [],
   "source": [
    "legend3 = df_crime_rates3[\"Location Type\"].drop_duplicates()\n",
    "legend3"
   ]
  },
  {
   "cell_type": "code",
   "execution_count": null,
   "metadata": {},
   "outputs": [],
   "source": [
    "df_pivot3 = pd.pivot_table(df_crime_rates3, values=[\"Crime Rate\"], index =[\"Precipitation Intensity\"],\n",
    "                   columns=[\"Location Type\"]).fillna(0)\n",
    "\n",
    "df_pivot3"
   ]
  },
  {
   "cell_type": "code",
   "execution_count": null,
   "metadata": {},
   "outputs": [],
   "source": [
    "ax = df_pivot3.plot(figsize=(12,10), legend=False)\n",
    "ax.set_prop_cycle(None)\n",
    "\n",
    "df_pivot3.plot(figsize=(12,8), ax = ax, grid=True)\n",
    "plt.title(\"Precipitation Impact on Crime Rate by Location Type\", fontsize=20)\n",
    "plt.legend(legend3, fontsize=12)\n",
    "plt.xlabel(\"Precipitation Intensity (in/h)\", fontsize=20)\n",
    "plt.ylabel(\"Crimes Per Hour\", fontsize=20)\n",
    "plt.tick_params(labelsize=10)"
   ]
  },
  {
   "cell_type": "markdown",
   "metadata": {},
   "source": [
    "## Written Analysis and Conclusions"
   ]
  },
  {
   "cell_type": "markdown",
   "metadata": {},
   "source": [
    "Refer to ReadMe for analysis."
   ]
  },
  {
   "cell_type": "code",
   "execution_count": null,
   "metadata": {},
   "outputs": [],
   "source": []
  }
 ],
 "metadata": {
  "kernelspec": {
   "display_name": "EAN general kernel spec",
   "language": "python",
   "name": "gen-kernelspec"
  },
  "language_info": {
   "codemirror_mode": {
    "name": "ipython",
    "version": 3
   },
   "file_extension": ".py",
   "mimetype": "text/x-python",
   "name": "python",
   "nbconvert_exporter": "python",
   "pygments_lexer": "ipython3",
   "version": "3.6.4"
  }
 },
 "nbformat": 4,
 "nbformat_minor": 4
}
